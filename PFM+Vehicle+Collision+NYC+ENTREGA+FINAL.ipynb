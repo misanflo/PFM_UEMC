{
 "cells": [
  {
   "cell_type": "code",
   "execution_count": null,
   "metadata": {
    "collapsed": true
   },
   "outputs": [],
   "source": [
    "# PFM VEHICLE COLLISION\n",
    "\n",
    "## Desde 2011, tras la aprobación de la ley local Nº11, la ciudad de New York publica información relacionada con las colisiones producidas en la ciudad. Esta información se ejecuta manualmente todos los meses y la Unidad TrafficStat revisa la información antes de publicarla en el sitio web del NYPD. \n",
    "\n",
    "## En el dataset contiene más de 400k registros. Cada registro representa una colisión en NYC con información de dia y fecha, barrio, cruce de calles, número de heridos, tipo de vehiculos involucrados y los motivos de la colisión.\n",
    "\n",
    "## Cada año hay más de 170.000 accidentes en la ciudad de NYC en sus cinco distritos: Manhattan, Brooklyn, Staten Island, Bronx y Queens. \n",
    "## Los objetivos del análisis de este dataset son: \n",
    "   ## - \tIdentificar las causas por las que se produce un accidente\n",
    "   ## - \tIdentificar los cruces y zonas más peligrosas\n",
    "   ## - \tIdentificar las zonas más peligrosas o con más colisiones\n",
    "   ## -\tClasificar las localizaciones a través del algoritmo HDBSCAN\n"
   ]
  },
  {
   "cell_type": "code",
   "execution_count": 2,
   "metadata": {
    "collapsed": true
   },
   "outputs": [],
   "source": [
    "# LIMPIEZA DEL DATASET\n",
    "\n",
    "# Importación de las bibliotecas necesarias\n",
    "\n",
    "import pandas as pd\n",
    "from pandas import DataFrame, Series\n",
    "import matplotlib.pyplot as plt\n",
    "import numpy as np\n",
    "import calendar\n",
    "from datetime import datetime\n",
    "import csv\n",
    "import reverse_geocoder as rg\n",
    "import ast"
   ]
  },
  {
   "cell_type": "code",
   "execution_count": 3,
   "metadata": {
    "collapsed": true
   },
   "outputs": [],
   "source": [
    "# Cargar del fichero con pandas\n",
    "data=pd.read_csv('D:/Mireia D/database.csv',sep=',',parse_dates=['DATE','TIME'],low_memory=False)"
   ]
  },
  {
   "cell_type": "code",
   "execution_count": 4,
   "metadata": {},
   "outputs": [
    {
     "data": {
      "text/plain": [
       "UNIQUE KEY                  0\n",
       "DATE                        0\n",
       "TIME                        0\n",
       "BOROUGH                139342\n",
       "ZIP CODE               139403\n",
       "LATITUDE               121132\n",
       "LONGITUDE              121132\n",
       "LOCATION               121132\n",
       "ON STREET NAME         113180\n",
       "CROSS STREET NAME      142158\n",
       "OFF STREET NAME        419221\n",
       "PERSONS INJURED             0\n",
       "PERSONS KILLED              0\n",
       "PEDESTRIANS INJURED         0\n",
       "PEDESTRIANS KILLED          0\n",
       "CYCLISTS INJURED            0\n",
       "CYCLISTS KILLED             0\n",
       "MOTORISTS INJURED           0\n",
       "MOTORISTS KILLED            0\n",
       "VEHICLE 1 TYPE           3955\n",
       "VEHICLE 2 TYPE          80937\n",
       "VEHICLE 3 TYPE         447468\n",
       "VEHICLE 4 TYPE         470901\n",
       "VEHICLE 5 TYPE         476049\n",
       "VEHICLE 1 FACTOR         3249\n",
       "VEHICLE 2 FACTOR        62331\n",
       "VEHICLE 3 FACTOR       446094\n",
       "VEHICLE 4 FACTOR       470500\n",
       "VEHICLE 5 FACTOR       475970\n",
       "dtype: int64"
      ]
     },
     "execution_count": 4,
     "metadata": {},
     "output_type": "execute_result"
    }
   ],
   "source": [
    "## Hay 140.000 observaciones sin información de distrito [BOROUGH]. Utilizando algoritmo geocoder reverse, he conseguido completar el 92% de esta información en el dataset, ya que si tenemos las coordenadas de cada observación.\n",
    "## Elimino también todas las observaciones sin localización ya que el objetivo del análisis es encontrar las localizaciones más seguras y peligrosas. \n",
    "data.isnull().sum()"
   ]
  },
  {
   "cell_type": "code",
   "execution_count": 5,
   "metadata": {
    "collapsed": true
   },
   "outputs": [],
   "source": [
    "#### Eliminar columnas sin localización\n",
    "data=data.dropna(subset=['LOCATION'])"
   ]
  },
  {
   "cell_type": "code",
   "execution_count": 6,
   "metadata": {
    "collapsed": true
   },
   "outputs": [],
   "source": [
    "#### Crear otro datafame solo con información de localiazción y distrito, y elimino los que sí tienen informado el distrito.\n",
    "df_geo=data[['LOCATION','BOROUGH']].copy()\n",
    "df_geo=df_geo[pd.isnull(data['BOROUGH'])]"
   ]
  },
  {
   "cell_type": "code",
   "execution_count": 7,
   "metadata": {
    "collapsed": true
   },
   "outputs": [],
   "source": [
    "#### Lista de coordenadas para que el algoritmo busque la información del distrito\n",
    "coordenadas = df_geo['LOCATION'].values\n",
    "coordenadas = list(ast.literal_eval(','.join(i.strip() for i in coordenadas)))"
   ]
  },
  {
   "cell_type": "code",
   "execution_count": 8,
   "metadata": {},
   "outputs": [
    {
     "name": "stdout",
     "output_type": "stream",
     "text": [
      "Loading formatted geocoded file...\n"
     ]
    }
   ],
   "source": [
    "#### Aplicar la búsqueda de dirección para las coordenadas de nuestro dataset sin info de distrito\n",
    "results = rg.search(coordenadas)"
   ]
  },
  {
   "cell_type": "code",
   "execution_count": 9,
   "metadata": {
    "collapsed": true
   },
   "outputs": [],
   "source": [
    "#### Crear fichero para guardar la información del distrito y sus coordenadas\n",
    "output_filename = 'D:/Mireia D/Distritos.csv'"
   ]
  },
  {
   "cell_type": "code",
   "execution_count": 10,
   "metadata": {
    "collapsed": true
   },
   "outputs": [],
   "source": [
    "#### Rellenar fichero Distritos con la informacion de cada distrito dada unas coordenadas\n",
    "rows = []\n",
    "for idx, city in enumerate(coordenadas):\n",
    "    write_row = []\n",
    "    lat=city[0]\n",
    "    lon=city[1]\n",
    "    gdata = results[idx]\n",
    "    rows.append([lat,lon,gdata['admin2']])\n",
    "csvwriter = csv.writer(open(output_filename,'w+'),delimiter=' ')\n",
    "csvwriter.writerows(rows)"
   ]
  },
  {
   "cell_type": "code",
   "execution_count": 11,
   "metadata": {
    "collapsed": true
   },
   "outputs": [],
   "source": [
    "#### Cargar el fichero con la info de distrito y la unimos al resto de información por accidente\n",
    "distrito=pd.read_csv('D:/Mireia D/Distritos.csv',sep=' ',header=None,low_memory=False)\n",
    "distrito=distrito.rename(columns={0:\"LATITUDE\",1:\"LONGITUDE\",2:\"BOROUGH\",3:\"COORDENADAS\"})\n",
    "distrito['COORDENADAS']=[', '.join(str(x) for x in y) for y in map(tuple, distrito[['LATITUDE', 'LONGITUDE']].values)]\n",
    "distrito=distrito.drop_duplicates(subset=['COORDENADAS'])"
   ]
  },
  {
   "cell_type": "code",
   "execution_count": 12,
   "metadata": {},
   "outputs": [
    {
     "data": {
      "text/html": [
       "<div>\n",
       "<style>\n",
       "    .dataframe thead tr:only-child th {\n",
       "        text-align: right;\n",
       "    }\n",
       "\n",
       "    .dataframe thead th {\n",
       "        text-align: left;\n",
       "    }\n",
       "\n",
       "    .dataframe tbody tr th {\n",
       "        vertical-align: top;\n",
       "    }\n",
       "</style>\n",
       "<table border=\"1\" class=\"dataframe\">\n",
       "  <thead>\n",
       "    <tr style=\"text-align: right;\">\n",
       "      <th></th>\n",
       "      <th>LATITUDE</th>\n",
       "      <th>LONGITUDE</th>\n",
       "      <th>BOROUGH</th>\n",
       "      <th>COORDENADAS</th>\n",
       "    </tr>\n",
       "  </thead>\n",
       "  <tbody>\n",
       "    <tr>\n",
       "      <th>0</th>\n",
       "      <td>40.771289</td>\n",
       "      <td>-73.946693</td>\n",
       "      <td>MANHATTAN</td>\n",
       "      <td>40.7712888, -73.9466928</td>\n",
       "    </tr>\n",
       "    <tr>\n",
       "      <th>1</th>\n",
       "      <td>40.785964</td>\n",
       "      <td>-73.796499</td>\n",
       "      <td>QUEENS</td>\n",
       "      <td>40.7859639, -73.7964988</td>\n",
       "    </tr>\n",
       "    <tr>\n",
       "      <th>2</th>\n",
       "      <td>40.754864</td>\n",
       "      <td>-73.816832</td>\n",
       "      <td>QUEENS</td>\n",
       "      <td>40.7548638, -73.8168325</td>\n",
       "    </tr>\n",
       "    <tr>\n",
       "      <th>3</th>\n",
       "      <td>40.602032</td>\n",
       "      <td>-74.187760</td>\n",
       "      <td>STATEN ISLAND</td>\n",
       "      <td>40.6020321, -74.1877605</td>\n",
       "    </tr>\n",
       "    <tr>\n",
       "      <th>5</th>\n",
       "      <td>40.795539</td>\n",
       "      <td>-73.977228</td>\n",
       "      <td>MANHATTAN</td>\n",
       "      <td>40.7955388, -73.9772278</td>\n",
       "    </tr>\n",
       "  </tbody>\n",
       "</table>\n",
       "</div>"
      ],
      "text/plain": [
       "    LATITUDE  LONGITUDE        BOROUGH              COORDENADAS\n",
       "0  40.771289 -73.946693      MANHATTAN  40.7712888, -73.9466928\n",
       "1  40.785964 -73.796499         QUEENS  40.7859639, -73.7964988\n",
       "2  40.754864 -73.816832         QUEENS  40.7548638, -73.8168325\n",
       "3  40.602032 -74.187760  STATEN ISLAND  40.6020321, -74.1877605\n",
       "5  40.795539 -73.977228      MANHATTAN  40.7955388, -73.9772278"
      ]
     },
     "execution_count": 12,
     "metadata": {},
     "output_type": "execute_result"
    }
   ],
   "source": [
    "#### Eliminar cuando el distrito que devuelve es Hunterdon county ya que sus coordenadas estan fuera de la ciudad de NY\n",
    "#### Sustituir los barrios que devuelve el algoritmo por los que utiliza el fichero original\n",
    "\n",
    "distrito=distrito[distrito.BOROUGH != 'Hunterdon County']\n",
    "\n",
    "distrito=distrito.replace([\"Queens County\",\"Nassau County\"],'QUEENS')\n",
    "distrito=distrito.replace([\"Kings County\",],'BROOKLYN')\n",
    "distrito=distrito.replace([\"New York County\",\"Bergen County\"],'MANHATTAN')\n",
    "distrito=distrito.replace([\"Bronx\",\"Westchester County\"],'BRONX')\n",
    "distrito=distrito.replace([\"Richmond County\",\"Hudson County\",\"Middlesex County\"],'STATEN ISLAND')\n",
    "distrito[:5]"
   ]
  },
  {
   "cell_type": "code",
   "execution_count": 13,
   "metadata": {},
   "outputs": [
    {
     "data": {
      "text/html": [
       "<div>\n",
       "<style>\n",
       "    .dataframe thead tr:only-child th {\n",
       "        text-align: right;\n",
       "    }\n",
       "\n",
       "    .dataframe thead th {\n",
       "        text-align: left;\n",
       "    }\n",
       "\n",
       "    .dataframe tbody tr th {\n",
       "        vertical-align: top;\n",
       "    }\n",
       "</style>\n",
       "<table border=\"1\" class=\"dataframe\">\n",
       "  <thead>\n",
       "    <tr style=\"text-align: right;\">\n",
       "      <th></th>\n",
       "      <th>UNIQUE KEY</th>\n",
       "      <th>DATE</th>\n",
       "      <th>TIME</th>\n",
       "      <th>BOROUGH_x</th>\n",
       "      <th>ZIP CODE</th>\n",
       "      <th>LATITUDE</th>\n",
       "      <th>LONGITUDE</th>\n",
       "      <th>LOCATION</th>\n",
       "      <th>ON STREET NAME</th>\n",
       "      <th>CROSS STREET NAME</th>\n",
       "      <th>...</th>\n",
       "      <th>VEHICLE 2 TYPE</th>\n",
       "      <th>VEHICLE 3 TYPE</th>\n",
       "      <th>VEHICLE 4 TYPE</th>\n",
       "      <th>VEHICLE 5 TYPE</th>\n",
       "      <th>VEHICLE 1 FACTOR</th>\n",
       "      <th>VEHICLE 2 FACTOR</th>\n",
       "      <th>VEHICLE 3 FACTOR</th>\n",
       "      <th>VEHICLE 4 FACTOR</th>\n",
       "      <th>VEHICLE 5 FACTOR</th>\n",
       "      <th>BOROUGH_y</th>\n",
       "    </tr>\n",
       "  </thead>\n",
       "  <tbody>\n",
       "    <tr>\n",
       "      <th>0</th>\n",
       "      <td>3146911</td>\n",
       "      <td>2015-01-01</td>\n",
       "      <td>2018-02-17 00:20:00</td>\n",
       "      <td>QUEENS</td>\n",
       "      <td>11358.0</td>\n",
       "      <td>40.751847</td>\n",
       "      <td>-73.787862</td>\n",
       "      <td>(40.7518471, -73.787862)</td>\n",
       "      <td>47 AVENUE</td>\n",
       "      <td>193 STREET</td>\n",
       "      <td>...</td>\n",
       "      <td>NaN</td>\n",
       "      <td>NaN</td>\n",
       "      <td>NaN</td>\n",
       "      <td>NaN</td>\n",
       "      <td>TRAFFIC CONTROL DISREGARDED</td>\n",
       "      <td>NaN</td>\n",
       "      <td>NaN</td>\n",
       "      <td>NaN</td>\n",
       "      <td>NaN</td>\n",
       "      <td>NaN</td>\n",
       "    </tr>\n",
       "    <tr>\n",
       "      <th>1</th>\n",
       "      <td>3146180</td>\n",
       "      <td>2015-01-01</td>\n",
       "      <td>2018-02-17 00:20:00</td>\n",
       "      <td>NaN</td>\n",
       "      <td>NaN</td>\n",
       "      <td>40.771289</td>\n",
       "      <td>-73.946693</td>\n",
       "      <td>(40.7712888, -73.9466928)</td>\n",
       "      <td>NaN</td>\n",
       "      <td>NaN</td>\n",
       "      <td>...</td>\n",
       "      <td>NaN</td>\n",
       "      <td>NaN</td>\n",
       "      <td>NaN</td>\n",
       "      <td>NaN</td>\n",
       "      <td>ANIMALS ACTION</td>\n",
       "      <td>NaN</td>\n",
       "      <td>NaN</td>\n",
       "      <td>NaN</td>\n",
       "      <td>NaN</td>\n",
       "      <td>MANHATTAN</td>\n",
       "    </tr>\n",
       "    <tr>\n",
       "      <th>2</th>\n",
       "      <td>3146384</td>\n",
       "      <td>2015-01-01</td>\n",
       "      <td>2018-02-17 00:21:00</td>\n",
       "      <td>BROOKLYN</td>\n",
       "      <td>11205.0</td>\n",
       "      <td>40.689445</td>\n",
       "      <td>-73.955121</td>\n",
       "      <td>(40.6894449, -73.9551212)</td>\n",
       "      <td>BEDFORD AVENUE</td>\n",
       "      <td>LAFAYETTE AVENUE</td>\n",
       "      <td>...</td>\n",
       "      <td>UNKNOWN</td>\n",
       "      <td>NaN</td>\n",
       "      <td>NaN</td>\n",
       "      <td>NaN</td>\n",
       "      <td>FATIGUED/DROWSY</td>\n",
       "      <td>UNSPECIFIED</td>\n",
       "      <td>NaN</td>\n",
       "      <td>NaN</td>\n",
       "      <td>NaN</td>\n",
       "      <td>NaN</td>\n",
       "    </tr>\n",
       "    <tr>\n",
       "      <th>3</th>\n",
       "      <td>3146013</td>\n",
       "      <td>2015-01-01</td>\n",
       "      <td>2018-02-17 00:30:00</td>\n",
       "      <td>BROOKLYN</td>\n",
       "      <td>11213.0</td>\n",
       "      <td>40.673845</td>\n",
       "      <td>-73.925080</td>\n",
       "      <td>(40.6738445, -73.9250801)</td>\n",
       "      <td>BUFFALO AVENUE</td>\n",
       "      <td>SAINT MARKS AVENUE</td>\n",
       "      <td>...</td>\n",
       "      <td>PASSENGER VEHICLE</td>\n",
       "      <td>NaN</td>\n",
       "      <td>NaN</td>\n",
       "      <td>NaN</td>\n",
       "      <td>LOST CONSCIOUSNESS</td>\n",
       "      <td>NaN</td>\n",
       "      <td>NaN</td>\n",
       "      <td>NaN</td>\n",
       "      <td>NaN</td>\n",
       "      <td>NaN</td>\n",
       "    </tr>\n",
       "    <tr>\n",
       "      <th>4</th>\n",
       "      <td>3145968</td>\n",
       "      <td>2015-01-01</td>\n",
       "      <td>2018-02-17 00:51:00</td>\n",
       "      <td>BROOKLYN</td>\n",
       "      <td>11203.0</td>\n",
       "      <td>40.656684</td>\n",
       "      <td>-73.929896</td>\n",
       "      <td>(40.6566844, -73.9298964)</td>\n",
       "      <td>CLARKSON AVENUE</td>\n",
       "      <td>EAST 51 STREET</td>\n",
       "      <td>...</td>\n",
       "      <td>SPORT UTILITY/STATION WAGON</td>\n",
       "      <td>SPORT UTILITY/STATION WAGON</td>\n",
       "      <td>PASSENGER VEHICLE</td>\n",
       "      <td>NaN</td>\n",
       "      <td>UNSPECIFIED</td>\n",
       "      <td>UNSPECIFIED</td>\n",
       "      <td>UNSPECIFIED</td>\n",
       "      <td>UNSPECIFIED</td>\n",
       "      <td>NaN</td>\n",
       "      <td>NaN</td>\n",
       "    </tr>\n",
       "  </tbody>\n",
       "</table>\n",
       "<p>5 rows × 30 columns</p>\n",
       "</div>"
      ],
      "text/plain": [
       "   UNIQUE KEY       DATE                TIME BOROUGH_x  ZIP CODE   LATITUDE  \\\n",
       "0     3146911 2015-01-01 2018-02-17 00:20:00    QUEENS   11358.0  40.751847   \n",
       "1     3146180 2015-01-01 2018-02-17 00:20:00       NaN       NaN  40.771289   \n",
       "2     3146384 2015-01-01 2018-02-17 00:21:00  BROOKLYN   11205.0  40.689445   \n",
       "3     3146013 2015-01-01 2018-02-17 00:30:00  BROOKLYN   11213.0  40.673845   \n",
       "4     3145968 2015-01-01 2018-02-17 00:51:00  BROOKLYN   11203.0  40.656684   \n",
       "\n",
       "   LONGITUDE                   LOCATION   ON STREET NAME   CROSS STREET NAME  \\\n",
       "0 -73.787862   (40.7518471, -73.787862)        47 AVENUE          193 STREET   \n",
       "1 -73.946693  (40.7712888, -73.9466928)              NaN                 NaN   \n",
       "2 -73.955121  (40.6894449, -73.9551212)   BEDFORD AVENUE    LAFAYETTE AVENUE   \n",
       "3 -73.925080  (40.6738445, -73.9250801)   BUFFALO AVENUE  SAINT MARKS AVENUE   \n",
       "4 -73.929896  (40.6566844, -73.9298964)  CLARKSON AVENUE      EAST 51 STREET   \n",
       "\n",
       "     ...                   VEHICLE 2 TYPE               VEHICLE 3 TYPE  \\\n",
       "0    ...                              NaN                          NaN   \n",
       "1    ...                              NaN                          NaN   \n",
       "2    ...                          UNKNOWN                          NaN   \n",
       "3    ...                PASSENGER VEHICLE                          NaN   \n",
       "4    ...      SPORT UTILITY/STATION WAGON  SPORT UTILITY/STATION WAGON   \n",
       "\n",
       "      VEHICLE 4 TYPE  VEHICLE 5 TYPE             VEHICLE 1 FACTOR  \\\n",
       "0                NaN             NaN  TRAFFIC CONTROL DISREGARDED   \n",
       "1                NaN             NaN               ANIMALS ACTION   \n",
       "2                NaN             NaN              FATIGUED/DROWSY   \n",
       "3                NaN             NaN           LOST CONSCIOUSNESS   \n",
       "4  PASSENGER VEHICLE             NaN                  UNSPECIFIED   \n",
       "\n",
       "   VEHICLE 2 FACTOR  VEHICLE 3 FACTOR  VEHICLE 4 FACTOR  VEHICLE 5 FACTOR  \\\n",
       "0               NaN               NaN               NaN               NaN   \n",
       "1               NaN               NaN               NaN               NaN   \n",
       "2       UNSPECIFIED               NaN               NaN               NaN   \n",
       "3               NaN               NaN               NaN               NaN   \n",
       "4       UNSPECIFIED       UNSPECIFIED       UNSPECIFIED               NaN   \n",
       "\n",
       "   BOROUGH_y  \n",
       "0        NaN  \n",
       "1  MANHATTAN  \n",
       "2        NaN  \n",
       "3        NaN  \n",
       "4        NaN  \n",
       "\n",
       "[5 rows x 30 columns]"
      ]
     },
     "execution_count": 13,
     "metadata": {},
     "output_type": "execute_result"
    }
   ],
   "source": [
    "#### Combinar ambos ficheros\n",
    "result = pd.merge(data, distrito[['LATITUDE','LONGITUDE','BOROUGH']], on=['LATITUDE','LONGITUDE'],how='left')\n",
    "result[:5]"
   ]
  },
  {
   "cell_type": "code",
   "execution_count": 14,
   "metadata": {},
   "outputs": [
    {
     "data": {
      "text/html": [
       "<div>\n",
       "<style>\n",
       "    .dataframe thead tr:only-child th {\n",
       "        text-align: right;\n",
       "    }\n",
       "\n",
       "    .dataframe thead th {\n",
       "        text-align: left;\n",
       "    }\n",
       "\n",
       "    .dataframe tbody tr th {\n",
       "        vertical-align: top;\n",
       "    }\n",
       "</style>\n",
       "<table border=\"1\" class=\"dataframe\">\n",
       "  <thead>\n",
       "    <tr style=\"text-align: right;\">\n",
       "      <th></th>\n",
       "      <th>UNIQUE KEY</th>\n",
       "      <th>DATE</th>\n",
       "      <th>TIME</th>\n",
       "      <th>BOROUGH_x</th>\n",
       "      <th>ZIP CODE</th>\n",
       "      <th>LATITUDE</th>\n",
       "      <th>LONGITUDE</th>\n",
       "      <th>LOCATION</th>\n",
       "      <th>ON STREET NAME</th>\n",
       "      <th>CROSS STREET NAME</th>\n",
       "      <th>...</th>\n",
       "      <th>VEHICLE 2 TYPE</th>\n",
       "      <th>VEHICLE 3 TYPE</th>\n",
       "      <th>VEHICLE 4 TYPE</th>\n",
       "      <th>VEHICLE 5 TYPE</th>\n",
       "      <th>VEHICLE 1 FACTOR</th>\n",
       "      <th>VEHICLE 2 FACTOR</th>\n",
       "      <th>VEHICLE 3 FACTOR</th>\n",
       "      <th>VEHICLE 4 FACTOR</th>\n",
       "      <th>VEHICLE 5 FACTOR</th>\n",
       "      <th>BOROUGH_y</th>\n",
       "    </tr>\n",
       "  </thead>\n",
       "  <tbody>\n",
       "    <tr>\n",
       "      <th>0</th>\n",
       "      <td>3146911</td>\n",
       "      <td>2015-01-01</td>\n",
       "      <td>2018-02-17 00:20:00</td>\n",
       "      <td>QUEENS</td>\n",
       "      <td>11358.0</td>\n",
       "      <td>40.751847</td>\n",
       "      <td>-73.787862</td>\n",
       "      <td>(40.7518471, -73.787862)</td>\n",
       "      <td>47 AVENUE</td>\n",
       "      <td>193 STREET</td>\n",
       "      <td>...</td>\n",
       "      <td>NaN</td>\n",
       "      <td>NaN</td>\n",
       "      <td>NaN</td>\n",
       "      <td>NaN</td>\n",
       "      <td>TRAFFIC CONTROL DISREGARDED</td>\n",
       "      <td>NaN</td>\n",
       "      <td>NaN</td>\n",
       "      <td>NaN</td>\n",
       "      <td>NaN</td>\n",
       "      <td>NaN</td>\n",
       "    </tr>\n",
       "    <tr>\n",
       "      <th>1</th>\n",
       "      <td>3146180</td>\n",
       "      <td>2015-01-01</td>\n",
       "      <td>2018-02-17 00:20:00</td>\n",
       "      <td>MANHATTAN</td>\n",
       "      <td>NaN</td>\n",
       "      <td>40.771289</td>\n",
       "      <td>-73.946693</td>\n",
       "      <td>(40.7712888, -73.9466928)</td>\n",
       "      <td>NaN</td>\n",
       "      <td>NaN</td>\n",
       "      <td>...</td>\n",
       "      <td>NaN</td>\n",
       "      <td>NaN</td>\n",
       "      <td>NaN</td>\n",
       "      <td>NaN</td>\n",
       "      <td>ANIMALS ACTION</td>\n",
       "      <td>NaN</td>\n",
       "      <td>NaN</td>\n",
       "      <td>NaN</td>\n",
       "      <td>NaN</td>\n",
       "      <td>MANHATTAN</td>\n",
       "    </tr>\n",
       "    <tr>\n",
       "      <th>2</th>\n",
       "      <td>3146384</td>\n",
       "      <td>2015-01-01</td>\n",
       "      <td>2018-02-17 00:21:00</td>\n",
       "      <td>BROOKLYN</td>\n",
       "      <td>11205.0</td>\n",
       "      <td>40.689445</td>\n",
       "      <td>-73.955121</td>\n",
       "      <td>(40.6894449, -73.9551212)</td>\n",
       "      <td>BEDFORD AVENUE</td>\n",
       "      <td>LAFAYETTE AVENUE</td>\n",
       "      <td>...</td>\n",
       "      <td>UNKNOWN</td>\n",
       "      <td>NaN</td>\n",
       "      <td>NaN</td>\n",
       "      <td>NaN</td>\n",
       "      <td>FATIGUED/DROWSY</td>\n",
       "      <td>UNSPECIFIED</td>\n",
       "      <td>NaN</td>\n",
       "      <td>NaN</td>\n",
       "      <td>NaN</td>\n",
       "      <td>NaN</td>\n",
       "    </tr>\n",
       "    <tr>\n",
       "      <th>3</th>\n",
       "      <td>3146013</td>\n",
       "      <td>2015-01-01</td>\n",
       "      <td>2018-02-17 00:30:00</td>\n",
       "      <td>BROOKLYN</td>\n",
       "      <td>11213.0</td>\n",
       "      <td>40.673845</td>\n",
       "      <td>-73.925080</td>\n",
       "      <td>(40.6738445, -73.9250801)</td>\n",
       "      <td>BUFFALO AVENUE</td>\n",
       "      <td>SAINT MARKS AVENUE</td>\n",
       "      <td>...</td>\n",
       "      <td>PASSENGER VEHICLE</td>\n",
       "      <td>NaN</td>\n",
       "      <td>NaN</td>\n",
       "      <td>NaN</td>\n",
       "      <td>LOST CONSCIOUSNESS</td>\n",
       "      <td>NaN</td>\n",
       "      <td>NaN</td>\n",
       "      <td>NaN</td>\n",
       "      <td>NaN</td>\n",
       "      <td>NaN</td>\n",
       "    </tr>\n",
       "    <tr>\n",
       "      <th>4</th>\n",
       "      <td>3145968</td>\n",
       "      <td>2015-01-01</td>\n",
       "      <td>2018-02-17 00:51:00</td>\n",
       "      <td>BROOKLYN</td>\n",
       "      <td>11203.0</td>\n",
       "      <td>40.656684</td>\n",
       "      <td>-73.929896</td>\n",
       "      <td>(40.6566844, -73.9298964)</td>\n",
       "      <td>CLARKSON AVENUE</td>\n",
       "      <td>EAST 51 STREET</td>\n",
       "      <td>...</td>\n",
       "      <td>SPORT UTILITY/STATION WAGON</td>\n",
       "      <td>SPORT UTILITY/STATION WAGON</td>\n",
       "      <td>PASSENGER VEHICLE</td>\n",
       "      <td>NaN</td>\n",
       "      <td>UNSPECIFIED</td>\n",
       "      <td>UNSPECIFIED</td>\n",
       "      <td>UNSPECIFIED</td>\n",
       "      <td>UNSPECIFIED</td>\n",
       "      <td>NaN</td>\n",
       "      <td>NaN</td>\n",
       "    </tr>\n",
       "  </tbody>\n",
       "</table>\n",
       "<p>5 rows × 30 columns</p>\n",
       "</div>"
      ],
      "text/plain": [
       "   UNIQUE KEY       DATE                TIME  BOROUGH_x  ZIP CODE   LATITUDE  \\\n",
       "0     3146911 2015-01-01 2018-02-17 00:20:00     QUEENS   11358.0  40.751847   \n",
       "1     3146180 2015-01-01 2018-02-17 00:20:00  MANHATTAN       NaN  40.771289   \n",
       "2     3146384 2015-01-01 2018-02-17 00:21:00   BROOKLYN   11205.0  40.689445   \n",
       "3     3146013 2015-01-01 2018-02-17 00:30:00   BROOKLYN   11213.0  40.673845   \n",
       "4     3145968 2015-01-01 2018-02-17 00:51:00   BROOKLYN   11203.0  40.656684   \n",
       "\n",
       "   LONGITUDE                   LOCATION   ON STREET NAME   CROSS STREET NAME  \\\n",
       "0 -73.787862   (40.7518471, -73.787862)        47 AVENUE          193 STREET   \n",
       "1 -73.946693  (40.7712888, -73.9466928)              NaN                 NaN   \n",
       "2 -73.955121  (40.6894449, -73.9551212)   BEDFORD AVENUE    LAFAYETTE AVENUE   \n",
       "3 -73.925080  (40.6738445, -73.9250801)   BUFFALO AVENUE  SAINT MARKS AVENUE   \n",
       "4 -73.929896  (40.6566844, -73.9298964)  CLARKSON AVENUE      EAST 51 STREET   \n",
       "\n",
       "     ...                   VEHICLE 2 TYPE               VEHICLE 3 TYPE  \\\n",
       "0    ...                              NaN                          NaN   \n",
       "1    ...                              NaN                          NaN   \n",
       "2    ...                          UNKNOWN                          NaN   \n",
       "3    ...                PASSENGER VEHICLE                          NaN   \n",
       "4    ...      SPORT UTILITY/STATION WAGON  SPORT UTILITY/STATION WAGON   \n",
       "\n",
       "      VEHICLE 4 TYPE  VEHICLE 5 TYPE             VEHICLE 1 FACTOR  \\\n",
       "0                NaN             NaN  TRAFFIC CONTROL DISREGARDED   \n",
       "1                NaN             NaN               ANIMALS ACTION   \n",
       "2                NaN             NaN              FATIGUED/DROWSY   \n",
       "3                NaN             NaN           LOST CONSCIOUSNESS   \n",
       "4  PASSENGER VEHICLE             NaN                  UNSPECIFIED   \n",
       "\n",
       "   VEHICLE 2 FACTOR  VEHICLE 3 FACTOR  VEHICLE 4 FACTOR  VEHICLE 5 FACTOR  \\\n",
       "0               NaN               NaN               NaN               NaN   \n",
       "1               NaN               NaN               NaN               NaN   \n",
       "2       UNSPECIFIED               NaN               NaN               NaN   \n",
       "3               NaN               NaN               NaN               NaN   \n",
       "4       UNSPECIFIED       UNSPECIFIED       UNSPECIFIED               NaN   \n",
       "\n",
       "   BOROUGH_y  \n",
       "0        NaN  \n",
       "1  MANHATTAN  \n",
       "2        NaN  \n",
       "3        NaN  \n",
       "4        NaN  \n",
       "\n",
       "[5 rows x 30 columns]"
      ]
     },
     "execution_count": 14,
     "metadata": {},
     "output_type": "execute_result"
    }
   ],
   "source": [
    "#### Completar BOROUGH_x con BOROUGH:_y\n",
    "result.loc[result['BOROUGH_x'].isnull(),'BOROUGH_x']=result.BOROUGH_y\n",
    "result[:5]"
   ]
  },
  {
   "cell_type": "code",
   "execution_count": 15,
   "metadata": {
    "collapsed": true
   },
   "outputs": [],
   "source": [
    "####Eliminar variable BOROUGH_y del dataframe y renombramos las columnas del dataset\n",
    "#También eliminamos Person injured y person killed porque ya tenemos otras tres columnas que dan esa misma información de manera desagregada.\n",
    "result=result.drop(result.columns[[11,12,29]],axis=1)\n",
    "result.columns=['UNIQUE_KEY','DATE','TIME','BOROUGH','CODE','LATITUDE','LONGITUDE','LOCATION','STREET','CROSS_STREET','OFF_STREET','PEDESTRIAN_INJURED','PEDESTRIAN_KILLED','CYCLIST_INJURED','CYCLIST_KILLED','MOTORIST_INJURED','MOTORIST_KILLED','TYPE_1','TYPE_2','TYPE_3','TYPE_4','TYPE_5','FACTOR_1','FACTOR_2','FACTOR_3','FACTOR_4','FACTOR_5']\n",
    "#Filtrar coordenadas 0,0\n",
    "result=result[result.LATITUDE != 0.0] \n",
    "result=result[result.LONGITUDE != 0.0]\n"
   ]
  },
  {
   "cell_type": "code",
   "execution_count": 16,
   "metadata": {},
   "outputs": [
    {
     "data": {
      "text/plain": [
       "UNIQUE_KEY                 0\n",
       "DATE                       0\n",
       "TIME                       0\n",
       "BOROUGH                 3926\n",
       "CODE                   47646\n",
       "LATITUDE                   0\n",
       "LONGITUDE                  0\n",
       "LOCATION                   0\n",
       "STREET                 78961\n",
       "CROSS_STREET           84433\n",
       "OFF_STREET            316378\n",
       "PEDESTRIAN_INJURED         0\n",
       "PEDESTRIAN_KILLED          0\n",
       "CYCLIST_INJURED            0\n",
       "CYCLIST_KILLED             0\n",
       "MOTORIST_INJURED           0\n",
       "MOTORIST_KILLED            0\n",
       "TYPE_1                  2715\n",
       "TYPE_2                 58508\n",
       "TYPE_3                334016\n",
       "TYPE_4                351550\n",
       "TYPE_5                355329\n",
       "FACTOR_1                2673\n",
       "FACTOR_2               47805\n",
       "FACTOR_3              333119\n",
       "FACTOR_4              351305\n",
       "FACTOR_5              355274\n",
       "dtype: int64"
      ]
     },
     "execution_count": 16,
     "metadata": {},
     "output_type": "execute_result"
    }
   ],
   "source": [
    "#### Había 47.602 observaciones sin información de ZIP COCE o BOROUGH. Utilizando algoritmo geocoder reverse, he conseguido completar el 92% de esta información en el dataset\n",
    "result.isnull().sum()"
   ]
  },
  {
   "cell_type": "code",
   "execution_count": 17,
   "metadata": {
    "collapsed": true
   },
   "outputs": [],
   "source": [
    "#### Para analizar si existen dias de la semana, horas del dia o meses más peligrosos, voy a crear estas varaibles en el dataset para facilitar este análissi posterior\n",
    "df=pd.DataFrame(result)\n",
    "\n",
    "df['YEAR']=df['DATE'].dt.year\n",
    "df['MONTH']=df['DATE'].dt.month\n",
    "df['NAMEMONTH']=df['MONTH'].apply(lambda x: calendar.month_abbr[x])\n",
    "df['NAMEWEEK']=df['DATE'].dt.weekday_name\n",
    "df['YEARMONTH'] = df['DATE'].apply(lambda x:x.strftime('%Y-%m'))\n",
    "df['HOUR']=df['TIME'].dt.hour"
   ]
  },
  {
   "cell_type": "code",
   "execution_count": 18,
   "metadata": {
    "collapsed": true
   },
   "outputs": [],
   "source": [
    "## Se crean variables resumen de heridos y fallecidos por tipo de persona involucrada, con la intención de poder analizar mejor esta información \n",
    "#### Crear variables que sumen el total de personas heridas y fallecidas segun tipo de persona involucrada en el accidente\n",
    "df['PEDESTRIAN']=df['PEDESTRIAN_INJURED'] + df['PEDESTRIAN_KILLED']\n",
    "df['CYCLIST']=df['CYCLIST_INJURED'] + df['CYCLIST_KILLED']\n",
    "df['MOTORIST']=df['MOTORIST_INJURED'] + df['MOTORIST_KILLED']\n",
    "#### Crear variable que sume el total de personas heridas y fallecidas independientemente de si es peaton, conductor o ciclista\n",
    "df['PERSON']=df['PEDESTRIAN'] + df['CYCLIST'] + df['MOTORIST']"
   ]
  },
  {
   "cell_type": "code",
   "execution_count": 19,
   "metadata": {
    "collapsed": true
   },
   "outputs": [],
   "source": [
    "## Se crea variable que nos indique el número de vehiculos involucrados en cada accidente \n",
    "#### Crear variable que nos indique el número de vehiculos involucrados\n",
    "type_vehicle=[x for x in df.columns if 'TYPE' in x]\n",
    "df['N_VEHICLE']=df[type_vehicle].apply(lambda x: x.count(),axis=1)"
   ]
  },
  {
   "cell_type": "code",
   "execution_count": 20,
   "metadata": {},
   "outputs": [
    {
     "data": {
      "text/plain": [
       "Sin_heridos    292200\n",
       "Heridos         64056\n",
       "Muertes           329\n",
       "Name: GRAVEDAD, dtype: int64"
      ]
     },
     "execution_count": 20,
     "metadata": {},
     "output_type": "execute_result"
    }
   ],
   "source": [
    "## Se crea variable que nos inqique la gravedad del accidente\n",
    "#### clasificando cada accidente en sin heridos, con heridos o con personas fallecidas\n",
    "heridos=[x for x in df.columns if 'INJURED' in x]\n",
    "muertes=[x for x in df.columns if 'KILLED' in x]\n",
    "df['GRAVEDAD']='Sin_heridos'\n",
    "df.loc[df[muertes].sum(axis=1)>0,'GRAVEDAD']='Muertes'\n",
    "df.loc[(df[muertes].sum(axis=1)==0)&(df[heridos].sum(axis=1)>0),'GRAVEDAD']='Heridos'\n",
    "df.GRAVEDAD.value_counts()"
   ]
  },
  {
   "cell_type": "code",
   "execution_count": 21,
   "metadata": {
    "collapsed": true
   },
   "outputs": [],
   "source": [
    "## Normalización de los tipos de vehiculos\n",
    "#### Renombrar algunos tipo de vehiculo mal escritos y cambiar a mayusculas\n",
    "for columns in df[type_vehicle]:\n",
    "    df[type_vehicle]=df[type_vehicle].apply(lambda col:col.str.upper())\n",
    "    df[type_vehicle]=df[type_vehicle].replace([\"ABULA\",\"AM\",\"AMB\",\"AMBUL\",\"AR\"],'AMBULANCE')\n",
    "    df[type_vehicle]=df[type_vehicle].replace([\"BU\",\"BSD\"],'BUS')\n",
    "    df[type_vehicle]=df[type_vehicle].replace([\"FB\",\"FDNY\",\"FIRET\",\"FIRE\"],'FIRE TRUCK')\n",
    "    df[type_vehicle]=df[type_vehicle].replace([\"SCOOTER\",\"MOTOR\"],'MOTORCYCLE')"
   ]
  },
  {
   "cell_type": "code",
   "execution_count": 22,
   "metadata": {
    "collapsed": true
   },
   "outputs": [],
   "source": [
    "## Normalización de las calles\n",
    "STREET_GROUP=[x for x in df.columns if 'STREET' in x]\n",
    "for columns in df[STREET_GROUP]:\n",
    "    df[STREET_GROUP]=df[STREET_GROUP].apply(lambda col:col.str.upper())\n",
    "\n",
    "normalization_street={'AVENUE':'AV',\n",
    "    'AVE':'AV',\n",
    "    'AVNUE': 'AV',\n",
    "    'STREET': 'ST',\n",
    "    'ROAD': 'RD',\n",
    "    'BOULEVARD': 'BLVD',\n",
    "    'PLACE': 'PL',\n",
    "    'PLAZA': 'PL',\n",
    "    'SQUARE': 'SQ',\n",
    "    'DRIVE': 'DR',\n",
    "    'LANE': 'LN',\n",
    "    'PARKWAY': 'PKWY',\n",
    "    'TURNPIKE': 'TP',\n",
    "    'TERRACE': 'TER',\n",
    "    '1ST': '1',\n",
    "    '2ND':'2',\n",
    "    '3RD': '3',\n",
    "    '1TH': '1',\n",
    "    '2TH': '2',\n",
    "    '3TH': '3',\n",
    "    '4TH': '4',\n",
    "    '5TH': '5',\n",
    "    '6TH': '6',\n",
    "    '7TH': '7', \n",
    "    '8TH': '8',\n",
    "    '9TH': '9',\n",
    "    '0TH': '0',              \n",
    "    'WEST ': 'W ',\n",
    "    'NORTH ': 'N ',\n",
    "    'EAST ': 'E ',\n",
    "    'SOUTH ': 'S '}\n",
    "\n",
    "#### Realizar reemplazo con los valores de normalización\n",
    "for column in STREET_GROUP:\n",
    "    df[STREET_GROUP]=df[STREET_GROUP].replace(normalization_street,regex=True)"
   ]
  },
  {
   "cell_type": "code",
   "execution_count": 23,
   "metadata": {
    "collapsed": true
   },
   "outputs": [],
   "source": [
    "# ANÁLISIS EXPLORATORIO \n",
    "## ¿Cuales son los tipos de vehiculo más involucrados en accidentes?"
   ]
  },
  {
   "cell_type": "code",
   "execution_count": 24,
   "metadata": {},
   "outputs": [
    {
     "data": {
      "image/png": "[encoded data removed]",
      "text/plain": [
       "<matplotlib.figure.Figure at 0x31e59f98>"
      ]
     },
     "metadata": {},
     "output_type": "display_data"
    }
   ],
   "source": [
    "fig, ax = plt.subplots(figsize=(10,5))\n",
    "df_type = pd.DataFrame([df.loc[:,x].value_counts().nlargest(10) for x in type_vehicle]).fillna(0).sum().sort_values(ascending=True)\n",
    "df_type.plot(kind='barh',ax=ax)\n",
    "ax.set_title('Tipos de vehiculos en accidentes NYC')\n",
    "ax.set_xlabel('Nº accidentes')\n",
    "plt.show()\n"
   ]
  },
  {
   "cell_type": "code",
   "execution_count": null,
   "metadata": {
    "collapsed": true
   },
   "outputs": [],
   "source": []
  }
 ],
 "metadata": {
  "kernelspec": {
   "display_name": "Python 3",
   "language": "python",
   "name": "python3"
  },
  "language_info": {
   "codemirror_mode": {
    "name": "ipython",
    "version": 3
   },
   "file_extension": ".py",
   "mimetype": "text/x-python",
   "name": "python",
   "nbconvert_exporter": "python",
   "pygments_lexer": "ipython3",
   "version": "3.6.3"
  }
 },
 "nbformat": 4,
 "nbformat_minor": 2
}
